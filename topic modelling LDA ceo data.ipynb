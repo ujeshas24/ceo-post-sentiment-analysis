{
 "cells": [
  {
   "cell_type": "code",
   "execution_count": 6,
   "id": "91b6315e",
   "metadata": {},
   "outputs": [
    {
     "name": "stderr",
     "output_type": "stream",
     "text": [
      "[nltk_data] Downloading package punkt to\n",
      "[nltk_data]     C:\\Users\\Hp\\AppData\\Roaming\\nltk_data...\n",
      "[nltk_data]   Package punkt is already up-to-date!\n",
      "[nltk_data] Downloading package vader_lexicon to\n",
      "[nltk_data]     C:\\Users\\Hp\\AppData\\Roaming\\nltk_data...\n",
      "[nltk_data]   Package vader_lexicon is already up-to-date!\n"
     ]
    },
    {
     "data": {
      "text/plain": [
       "True"
      ]
     },
     "execution_count": 6,
     "metadata": {},
     "output_type": "execute_result"
    }
   ],
   "source": [
    "\n",
    "import re\n",
    "import nltk\n",
    "from nltk.sentiment.vader import SentimentIntensityAnalyzer\n",
    "\n",
    "\n",
    "import pandas as pd\n",
    "import numpy as np\n",
    "import matplotlib.pyplot as plt\n",
    "import seaborn as sns\n",
    "\n",
    "#plt.style.use('ggplot')\n",
    "\n",
    "\n",
    "nltk.download('punkt')\n",
    "nltk.download('vader_lexicon')\n",
    "#x='Honored to be appointed CEO of Owens & Minor, a global healthcare solutions company with a rich 137-year history of serving healthcare manufacturer and provider customers with the solutions they need to deliver exceptional patient care. Iâ€™m looking forward to joining the world-class team and to serving our customers across the continuum of care.'\n",
    "\n",
    "#print(x)\n",
    "#nltk.word_tokenize(x)"
   ]
  },
  {
   "cell_type": "code",
   "execution_count": 34,
   "id": "81df0d8d",
   "metadata": {},
   "outputs": [
    {
     "name": "stderr",
     "output_type": "stream",
     "text": [
      "[nltk_data] Downloading package sentiwordnet to\n",
      "[nltk_data]     C:\\Users\\Hp\\AppData\\Roaming\\nltk_data...\n",
      "[nltk_data]   Package sentiwordnet is already up-to-date!\n",
      "[nltk_data] Downloading package omw-1.4 to\n",
      "[nltk_data]     C:\\Users\\Hp\\AppData\\Roaming\\nltk_data...\n",
      "[nltk_data]   Package omw-1.4 is already up-to-date!\n"
     ]
    },
    {
     "data": {
      "text/plain": [
       "True"
      ]
     },
     "execution_count": 34,
     "metadata": {},
     "output_type": "execute_result"
    }
   ],
   "source": [
    "import nltk\n",
    "nltk.download('sentiwordnet')\n",
    "nltk.download('omw-1.4')"
   ]
  },
  {
   "cell_type": "code",
   "execution_count": 42,
   "id": "46adca4a",
   "metadata": {},
   "outputs": [
    {
     "name": "stdout",
     "output_type": "stream",
     "text": [
      "topic ID:  0\n",
      "['work', 'thank', 'business', 'great', 'company', 'share', 'team', 'time', 'strategy']\n",
      "Sentiment Score:  0.125\n",
      "topic ID:  1\n",
      "['year', 'community', 'thank', 'work', 'team', 'commitment', 'week', 'innovation', 'giving']\n",
      "Sentiment Score:  0.5\n",
      "topic ID:  2\n",
      "['safe', 'food', 'today', 'president', 'ceo', 'thank', 'serve', 'quarter', 'industry']\n",
      "Sentiment Score:  0.75\n",
      "topic ID:  3\n",
      "['work', 'global', 'team', 'day', 'year', 'important', 'help', 'community', 'world']\n",
      "Sentiment Score:  1.0\n",
      "topic ID:  4\n",
      "['thank', 'team', 'new', 'great', 'business', 'growth', 'value', 'week', 'help']\n",
      "Sentiment Score:  0.875\n",
      "topic ID:  5\n",
      "['in', 'https', 'lnkd', 'world', 'year', 'proud', 'financial', 'business', 'new']\n",
      "Sentiment Score:  0.75\n",
      "topic ID:  6\n",
      "['team', 'proud', 'company', 'work', 're', 'world', 'health', 'future', 'store']\n",
      "Sentiment Score:  0.75\n",
      "topic ID:  7\n",
      "['great', 'year', 'new', 'strong', 'janet', 'impact', 'today', 'proud', 'culture']\n",
      "Sentiment Score:  1.125\n"
     ]
    }
   ],
   "source": [
    "#reading the data from the dataset and converting to lowercase, converting list of post\n",
    "\n",
    "corpus = open('ceo data 2 - Sheet1.csv', encoding=\"utf8\").read()\n",
    "\n",
    "corpus = corpus.lower()\n",
    "docs = corpus.split('\\n')\n",
    "docs.remove(docs[0])\n",
    "\n",
    "#creatinig a list of the only POS tags that we are interested in\n",
    "words = nltk.tokenize.word_tokenize(docs[0])\n",
    "allowed_tags = ['VBP', 'VB', 'VBG', 'JJ', 'NN', 'RB']\n",
    "\n",
    "#from sklearn.feature_extraction.stop_words import ENGLISH_STOP_WORDS\n",
    "#from sklearn.feature_extraction import _stop_words\n",
    "from sklearn.feature_extraction.text import ENGLISH_STOP_WORDS\n",
    "from string import punctuation as punc\n",
    "\n",
    "pdocs = []\n",
    "for d in docs:\n",
    "    words = nltk.tokenize.word_tokenize(d)\n",
    "    words_tags = nltk.pos_tag(words)\n",
    "    for w, t in words_tags:\n",
    "        if w in punc:\n",
    "            words.remove(w)\n",
    "        elif w in ENGLISH_STOP_WORDS:\n",
    "            words.remove(w)\n",
    "        elif t not in allowed_tags:\n",
    "            words.remove(w)\n",
    "    pd = ' '.join(words)\n",
    "    pdocs.append(pd)\n",
    "\n",
    "#Structuring our input documents with CountVectorizer\n",
    "from sklearn.feature_extraction.text import CountVectorizer\n",
    "vec = CountVectorizer()\n",
    "matrix_X = vec.fit_transform(pdocs)\n",
    "\n",
    "#LDA (Topic modeling)\n",
    "features = vec.get_feature_names_out()\n",
    "\n",
    "from sklearn.decomposition import LatentDirichletAllocation\n",
    "lda = LatentDirichletAllocation(n_components = 8)\n",
    "lda.fit(matrix_X)\n",
    "\n",
    "#Sentiment Analysis\n",
    "from nltk.corpus import wordnet as wn\n",
    "from nltk.corpus import sentiwordnet as swn\n",
    "\n",
    "for tid, topics in enumerate(lda.components_):\n",
    "    print('topic ID: ', tid)\n",
    "    top_words = [features[i] for i in topics.argsort()[:-10:-1]]\n",
    "    print(top_words)\n",
    "    score = 0\n",
    "    for w in top_words:\n",
    "        if wn.synsets(w):\n",
    "            senti_synset = swn.senti_synset(wn.synsets(w)[0].name())\n",
    "            score += senti_synset.pos_score() - senti_synset.neg_score()\n",
    "       \n",
    "    print('Sentiment Score: ', score)\n",
    "\n"
   ]
  }
 ],
 "metadata": {
  "kernelspec": {
   "display_name": "Python 3 (ipykernel)",
   "language": "python",
   "name": "python3"
  },
  "language_info": {
   "codemirror_mode": {
    "name": "ipython",
    "version": 3
   },
   "file_extension": ".py",
   "mimetype": "text/x-python",
   "name": "python",
   "nbconvert_exporter": "python",
   "pygments_lexer": "ipython3",
   "version": "3.9.12"
  }
 },
 "nbformat": 4,
 "nbformat_minor": 5
}
